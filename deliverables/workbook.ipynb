{
 "cells": [
  {
   "cell_type": "markdown",
   "id": "da609853",
   "metadata": {},
   "source": [
    "#### Patrick Pfenning\n",
    "\n",
    "Fibromyalgia Final Project:\n",
    "---\n",
    "\n",
    ">**OBJECTIVE:** Use the [Fibromyalgia Abstracts](../data/fibro_abstracts.csv) dataset to generate titles from abstract content. Titles behave as a summary of sorts, so title will serve as testing outputs.\n",
    "\n",
    ">**DELIVERABLES:** [Video Walkthroughs](../recordings)\n",
    "\n",
    "\n",
    "## Part I:  _Data Cleanup_\n",
    "\n",
    "### 1. Index Verification\n",
    "\n",
    "> After loading [Fibromyalgia Abstracts](../data/fibro_abstracts.csv) to a dataframe, it is wise to find a primary key to use as our index. A primary key is a unique set of values for which all data can be mapped. This makes joining other dataframes with a map to the index easy.\n",
    "\n",
    ">**Key Choice:** _PMID_\n",
    "\n",
    ">**Justification:** The below shows that the id is unique. Given that it is an integer key, it is easy to reference as the reader."
   ]
  },
  {
   "cell_type": "code",
   "execution_count": 2,
   "id": "cd18307f",
   "metadata": {},
   "outputs": [
    {
     "data": {
      "text/html": [
       "<div>\n",
       "<style scoped>\n",
       "    .dataframe tbody tr th:only-of-type {\n",
       "        vertical-align: middle;\n",
       "    }\n",
       "\n",
       "    .dataframe tbody tr th {\n",
       "        vertical-align: top;\n",
       "    }\n",
       "\n",
       "    .dataframe thead th {\n",
       "        text-align: right;\n",
       "    }\n",
       "</style>\n",
       "<table border=\"1\" class=\"dataframe\">\n",
       "  <thead>\n",
       "    <tr style=\"text-align: right;\">\n",
       "      <th></th>\n",
       "      <th>titles</th>\n",
       "      <th>pub_date</th>\n",
       "      <th>source</th>\n",
       "      <th>abstract</th>\n",
       "    </tr>\n",
       "    <tr>\n",
       "      <th>PMID</th>\n",
       "      <th></th>\n",
       "      <th></th>\n",
       "      <th></th>\n",
       "      <th></th>\n",
       "    </tr>\n",
       "  </thead>\n",
       "  <tbody>\n",
       "    <tr>\n",
       "      <th>32314938</th>\n",
       "      <td>Fibromyalgia, Sjogren's &amp; Depression: Linked?</td>\n",
       "      <td>2020 Apr 21</td>\n",
       "      <td>Postgrad Med. 2020 Apr 21. doi: 10.1080/003254...</td>\n",
       "      <td>Health care has become increasingly fragmented...</td>\n",
       "    </tr>\n",
       "    <tr>\n",
       "      <th>32308473</th>\n",
       "      <td>Electrodiagnostic Abnormalities Associated wit...</td>\n",
       "      <td>2020</td>\n",
       "      <td>J Pain Res. 2020 Apr 9;13:737-744. doi: 10.214...</td>\n",
       "      <td>Purpose: Increasing evidence suggests that fib...</td>\n",
       "    </tr>\n",
       "    <tr>\n",
       "      <th>32307906</th>\n",
       "      <td>High levels of cathepsin S and cystatin C in p...</td>\n",
       "      <td>2020 Apr 19</td>\n",
       "      <td>Int J Rheum Dis. 2020 Apr 19. doi: 10.1111/175...</td>\n",
       "      <td>OBJECTIVES: Although the etiopathogenesis of f...</td>\n",
       "    </tr>\n",
       "    <tr>\n",
       "      <th>32305723</th>\n",
       "      <td>Prevalence and overlap of somatic symptom diso...</td>\n",
       "      <td>2020 Apr 11</td>\n",
       "      <td>J Psychosom Res. 2020 Apr 11;133:110111. doi: ...</td>\n",
       "      <td>OBJECTIVE: To study the prevalence and clinica...</td>\n",
       "    </tr>\n",
       "    <tr>\n",
       "      <th>32299495</th>\n",
       "      <td>Psychometric properties of Turkish version of ...</td>\n",
       "      <td>2020 Apr 16</td>\n",
       "      <td>Adv Rheumatol. 2020 Apr 16;60(1):22. doi: 10.1...</td>\n",
       "      <td>BACKGROUND: Fibromyalgia syndrome (FMS) has ad...</td>\n",
       "    </tr>\n",
       "  </tbody>\n",
       "</table>\n",
       "</div>"
      ],
      "text/plain": [
       "                                                     titles     pub_date  \\\n",
       "PMID                                                                       \n",
       "32314938      Fibromyalgia, Sjogren's & Depression: Linked?  2020 Apr 21   \n",
       "32308473  Electrodiagnostic Abnormalities Associated wit...         2020   \n",
       "32307906  High levels of cathepsin S and cystatin C in p...  2020 Apr 19   \n",
       "32305723  Prevalence and overlap of somatic symptom diso...  2020 Apr 11   \n",
       "32299495  Psychometric properties of Turkish version of ...  2020 Apr 16   \n",
       "\n",
       "                                                     source  \\\n",
       "PMID                                                          \n",
       "32314938  Postgrad Med. 2020 Apr 21. doi: 10.1080/003254...   \n",
       "32308473  J Pain Res. 2020 Apr 9;13:737-744. doi: 10.214...   \n",
       "32307906  Int J Rheum Dis. 2020 Apr 19. doi: 10.1111/175...   \n",
       "32305723  J Psychosom Res. 2020 Apr 11;133:110111. doi: ...   \n",
       "32299495  Adv Rheumatol. 2020 Apr 16;60(1):22. doi: 10.1...   \n",
       "\n",
       "                                                   abstract  \n",
       "PMID                                                         \n",
       "32314938  Health care has become increasingly fragmented...  \n",
       "32308473  Purpose: Increasing evidence suggests that fib...  \n",
       "32307906  OBJECTIVES: Although the etiopathogenesis of f...  \n",
       "32305723  OBJECTIVE: To study the prevalence and clinica...  \n",
       "32299495  BACKGROUND: Fibromyalgia syndrome (FMS) has ad...  "
      ]
     },
     "execution_count": 2,
     "metadata": {},
     "output_type": "execute_result"
    }
   ],
   "source": [
    "import pandas as pd\n",
    "\n",
    "# download set\n",
    "fibro = pd.read_csv('../data/fibro_abstracts.csv')\n",
    "# is id truly unique?\n",
    "if fibro.PMID.is_unique:\n",
    "    fibro.set_index('PMID', inplace=True)\n",
    "fibro.head()"
   ]
  },
  {
   "cell_type": "markdown",
   "id": "0053f1bd",
   "metadata": {},
   "source": [
    "### 2. Extract date from pub_date --> (yr, mo, date)\n",
    "\n",
    ">**_Approach:_**\n",
    ">>1. Extract from source\n",
    ">>    - pros: seems more \"precise\"\n",
    ">>    - cons: more text to parse (journal, author, doi, ...)\n",
    ">>2. Extract from pub_date\n",
    ">>    - pros: already an attempted date with inteded format of \"%Y %b %d\"\n",
    ">>    - cons: will need to extrapolate to get missing data\n",
    "    \n",
    "\n",
    ">**_Choice:_**\n",
    ">>__PMID__ seems to be presorted in decending order. This inherently maps to time of entry, thus an __ffill__ >extrapolation will give us a logical approximation for the date unit."
   ]
  },
  {
   "cell_type": "code",
   "execution_count": 3,
   "id": "4d4c3c27",
   "metadata": {},
   "outputs": [
    {
     "data": {
      "text/html": [
       "<div>\n",
       "<style scoped>\n",
       "    .dataframe tbody tr th:only-of-type {\n",
       "        vertical-align: middle;\n",
       "    }\n",
       "\n",
       "    .dataframe tbody tr th {\n",
       "        vertical-align: top;\n",
       "    }\n",
       "\n",
       "    .dataframe thead th {\n",
       "        text-align: right;\n",
       "    }\n",
       "</style>\n",
       "<table border=\"1\" class=\"dataframe\">\n",
       "  <thead>\n",
       "    <tr style=\"text-align: right;\">\n",
       "      <th></th>\n",
       "      <th>yr</th>\n",
       "      <th>mo</th>\n",
       "      <th>day</th>\n",
       "    </tr>\n",
       "    <tr>\n",
       "      <th>PMID</th>\n",
       "      <th></th>\n",
       "      <th></th>\n",
       "      <th></th>\n",
       "    </tr>\n",
       "  </thead>\n",
       "  <tbody>\n",
       "    <tr>\n",
       "      <th>32314938</th>\n",
       "      <td>2020</td>\n",
       "      <td>Apr</td>\n",
       "      <td>21</td>\n",
       "    </tr>\n",
       "    <tr>\n",
       "      <th>32308473</th>\n",
       "      <td>2020</td>\n",
       "      <td>Apr</td>\n",
       "      <td>21</td>\n",
       "    </tr>\n",
       "    <tr>\n",
       "      <th>32307906</th>\n",
       "      <td>2020</td>\n",
       "      <td>Apr</td>\n",
       "      <td>19</td>\n",
       "    </tr>\n",
       "    <tr>\n",
       "      <th>32305723</th>\n",
       "      <td>2020</td>\n",
       "      <td>Apr</td>\n",
       "      <td>11</td>\n",
       "    </tr>\n",
       "    <tr>\n",
       "      <th>32299495</th>\n",
       "      <td>2020</td>\n",
       "      <td>Apr</td>\n",
       "      <td>16</td>\n",
       "    </tr>\n",
       "  </tbody>\n",
       "</table>\n",
       "</div>"
      ],
      "text/plain": [
       "            yr   mo day\n",
       "PMID                   \n",
       "32314938  2020  Apr  21\n",
       "32308473  2020  Apr  21\n",
       "32307906  2020  Apr  19\n",
       "32305723  2020  Apr  11\n",
       "32299495  2020  Apr  16"
      ]
     },
     "execution_count": 3,
     "metadata": {},
     "output_type": "execute_result"
    }
   ],
   "source": [
    "from datetime import datetime as dt\n",
    "import regex as re\n",
    "from itertools import cycle, islice, zip_longest\n",
    "\n",
    "# expect YYYY Mon d\n",
    "dates = fibro['pub_date'].str.split(expand=True).iloc[:, :3]\n",
    "dates.columns = ['yr', 'mo', 'day']\n",
    "dates = dates.fillna(method='ffill').set_index(dates.index)\n",
    "dates.mo = dates.mo.str.slice(0, 3)\n",
    "### Will join to finished product \n",
    "dates.head()"
   ]
  },
  {
   "cell_type": "markdown",
   "id": "3a43077a",
   "metadata": {},
   "source": [
    "### 3. Get Publication and DOI from Source\n",
    "\n",
    ">The __source__ column looks to be a conjunction of __(Publication Title) (Date) (DOI).__ Because we already found date, let us extract to others."
   ]
  },
  {
   "cell_type": "code",
   "execution_count": 4,
   "id": "ca044223",
   "metadata": {},
   "outputs": [
    {
     "name": "stdout",
     "output_type": "stream",
     "text": [
      "                         0       1     2                    3     4     5  \\\n",
      "PMID                                                                        \n",
      "32314938     Postgrad Med.   2020   None             Apr 21.   None  doi:   \n",
      "32308473       J Pain Res.   2020   None   Apr 9;13:737-744.   None  doi:   \n",
      "32307906  Int J Rheum Dis.   2020   None             Apr 19.   None  doi:   \n",
      "32305723  J Psychosom Res.   2020   None  Apr 11;133:110111.   None  doi:   \n",
      "32299495    Adv Rheumatol.   2020   None    Apr 16;60(1):22.   None  doi:   \n",
      "\n",
      "                                                6     7     8     9  \n",
      "PMID                                                                 \n",
      "32314938           10.1080/00325481.2020.1758426.  None  None  None  \n",
      "32308473   10.2147/JPR.S234475. eCollection 2020.  None  None  None  \n",
      "32307906                 10.1111/1756-185X.13840.  None  None  None  \n",
      "32305723        10.1016/j.jpsychores.2020.110111.  None  None  None  \n",
      "32299495               10.1186/s42358-020-0123-3.  None  None  None  \n"
     ]
    },
    {
     "data": {
      "text/html": [
       "<div>\n",
       "<style scoped>\n",
       "    .dataframe tbody tr th:only-of-type {\n",
       "        vertical-align: middle;\n",
       "    }\n",
       "\n",
       "    .dataframe tbody tr th {\n",
       "        vertical-align: top;\n",
       "    }\n",
       "\n",
       "    .dataframe thead th {\n",
       "        text-align: right;\n",
       "    }\n",
       "</style>\n",
       "<table border=\"1\" class=\"dataframe\">\n",
       "  <thead>\n",
       "    <tr style=\"text-align: right;\">\n",
       "      <th></th>\n",
       "      <th>publication</th>\n",
       "      <th>DOI</th>\n",
       "    </tr>\n",
       "    <tr>\n",
       "      <th>PMID</th>\n",
       "      <th></th>\n",
       "      <th></th>\n",
       "    </tr>\n",
       "  </thead>\n",
       "  <tbody>\n",
       "    <tr>\n",
       "      <th>32314938</th>\n",
       "      <td>Postgrad Med.</td>\n",
       "      <td>10.1080/00325481.2020.1758426.</td>\n",
       "    </tr>\n",
       "    <tr>\n",
       "      <th>32308473</th>\n",
       "      <td>J Pain Res.</td>\n",
       "      <td>10.2147/JPR.S234475. eCollection 2020.</td>\n",
       "    </tr>\n",
       "    <tr>\n",
       "      <th>32307906</th>\n",
       "      <td>Int J Rheum Dis.</td>\n",
       "      <td>10.1111/1756-185X.13840.</td>\n",
       "    </tr>\n",
       "    <tr>\n",
       "      <th>32305723</th>\n",
       "      <td>J Psychosom Res.</td>\n",
       "      <td>10.1016/j.jpsychores.2020.110111.</td>\n",
       "    </tr>\n",
       "    <tr>\n",
       "      <th>32299495</th>\n",
       "      <td>Adv Rheumatol.</td>\n",
       "      <td>10.1186/s42358-020-0123-3.</td>\n",
       "    </tr>\n",
       "  </tbody>\n",
       "</table>\n",
       "</div>"
      ],
      "text/plain": [
       "               publication                                      DOI\n",
       "PMID                                                               \n",
       "32314938     Postgrad Med.           10.1080/00325481.2020.1758426.\n",
       "32308473       J Pain Res.   10.2147/JPR.S234475. eCollection 2020.\n",
       "32307906  Int J Rheum Dis.                 10.1111/1756-185X.13840.\n",
       "32305723  J Psychosom Res.        10.1016/j.jpsychores.2020.110111.\n",
       "32299495    Adv Rheumatol.               10.1186/s42358-020-0123-3."
      ]
     },
     "execution_count": 4,
     "metadata": {},
     "output_type": "execute_result"
    }
   ],
   "source": [
    "source = fibro.source.str.split(r'(\\s\\d{4}\\s)|(doi:)', expand=True)\n",
    "print(source.head())\n",
    "source = source[[0, 6]]\n",
    "source.columns = ['publication', 'DOI']\n",
    "source.head() # DOI is okay to be left blank as it id a digital key and may not have existed at time of publication"
   ]
  },
  {
   "cell_type": "markdown",
   "id": "04cfe82a",
   "metadata": {},
   "source": [
    "### 4. Clean Corpus\n",
    "\n",
    "> Remove bad characters from title/abstract:\n",
    "> - punctuation\n",
    "> - non-ascii"
   ]
  },
  {
   "cell_type": "code",
   "execution_count": 5,
   "id": "f61bf0eb",
   "metadata": {},
   "outputs": [
    {
     "name": "stdout",
     "output_type": "stream",
     "text": [
      "                                                      title  \\\n",
      "PMID                                                          \n",
      "32314938      Fibromyalgia, Sjogren's & Depression: Linked?   \n",
      "32308473  Electrodiagnostic Abnormalities Associated wit...   \n",
      "32307906  High levels of cathepsin S and cystatin C in p...   \n",
      "32305723  Prevalence and overlap of somatic symptom diso...   \n",
      "32299495  Psychometric properties of Turkish version of ...   \n",
      "\n",
      "                                                   abstract  \n",
      "PMID                                                         \n",
      "32314938  Health care has become increasingly fragmented...  \n",
      "32308473  Purpose: Increasing evidence suggests that fib...  \n",
      "32307906  OBJECTIVES: Although the etiopathogenesis of f...  \n",
      "32305723  OBJECTIVE: To study the prevalence and clinica...  \n",
      "32299495  BACKGROUND: Fibromyalgia syndrome (FMS) has ad...  \n"
     ]
    },
    {
     "data": {
      "text/html": [
       "<div>\n",
       "<style scoped>\n",
       "    .dataframe tbody tr th:only-of-type {\n",
       "        vertical-align: middle;\n",
       "    }\n",
       "\n",
       "    .dataframe tbody tr th {\n",
       "        vertical-align: top;\n",
       "    }\n",
       "\n",
       "    .dataframe thead th {\n",
       "        text-align: right;\n",
       "    }\n",
       "</style>\n",
       "<table border=\"1\" class=\"dataframe\">\n",
       "  <thead>\n",
       "    <tr style=\"text-align: right;\">\n",
       "      <th></th>\n",
       "      <th>title</th>\n",
       "      <th>abstract</th>\n",
       "    </tr>\n",
       "    <tr>\n",
       "      <th>PMID</th>\n",
       "      <th></th>\n",
       "      <th></th>\n",
       "    </tr>\n",
       "  </thead>\n",
       "  <tbody>\n",
       "    <tr>\n",
       "      <th>32314938</th>\n",
       "      <td>Fibromyalgia Sjogrens  Depression Linked</td>\n",
       "      <td>Health care has become increasingly fragmented...</td>\n",
       "    </tr>\n",
       "    <tr>\n",
       "      <th>32308473</th>\n",
       "      <td>Electrodiagnostic Abnormalities Associated wit...</td>\n",
       "      <td>Purpose Increasing evidence suggests that fibr...</td>\n",
       "    </tr>\n",
       "    <tr>\n",
       "      <th>32307906</th>\n",
       "      <td>High levels of cathepsin S and cystatin C in p...</td>\n",
       "      <td>OBJECTIVES Although the etiopathogenesis of fi...</td>\n",
       "    </tr>\n",
       "    <tr>\n",
       "      <th>32305723</th>\n",
       "      <td>Prevalence and overlap of somatic symptom diso...</td>\n",
       "      <td>OBJECTIVE To study the prevalence and clinical...</td>\n",
       "    </tr>\n",
       "    <tr>\n",
       "      <th>32299495</th>\n",
       "      <td>Psychometric properties of Turkish version of ...</td>\n",
       "      <td>BACKGROUND Fibromyalgia syndrome FMS has adver...</td>\n",
       "    </tr>\n",
       "  </tbody>\n",
       "</table>\n",
       "</div>"
      ],
      "text/plain": [
       "                                                      title  \\\n",
       "PMID                                                          \n",
       "32314938           Fibromyalgia Sjogrens  Depression Linked   \n",
       "32308473  Electrodiagnostic Abnormalities Associated wit...   \n",
       "32307906  High levels of cathepsin S and cystatin C in p...   \n",
       "32305723  Prevalence and overlap of somatic symptom diso...   \n",
       "32299495  Psychometric properties of Turkish version of ...   \n",
       "\n",
       "                                                   abstract  \n",
       "PMID                                                         \n",
       "32314938  Health care has become increasingly fragmented...  \n",
       "32308473  Purpose Increasing evidence suggests that fibr...  \n",
       "32307906  OBJECTIVES Although the etiopathogenesis of fi...  \n",
       "32305723  OBJECTIVE To study the prevalence and clinical...  \n",
       "32299495  BACKGROUND Fibromyalgia syndrome FMS has adver...  "
      ]
     },
     "execution_count": 5,
     "metadata": {},
     "output_type": "execute_result"
    }
   ],
   "source": [
    "clean_text = fibro[['titles', 'abstract']].copy()\n",
    "clean_text.columns = ['title', 'abstract']  # don't love the plural column name\n",
    "print(clean_text.head())\n",
    "for col in clean_text:\n",
    "    clean_text[col] = clean_text[col].str.encode('ascii', 'ignore') \\\n",
    "                                     .str.decode('ascii') \\\n",
    "                                     .replace(r'(?:[^\\w\\s]|_)+', '', regex=True) \\\n",
    "                                     .str.strip()\n",
    "clean_text.head()"
   ]
  },
  {
   "cell_type": "markdown",
   "id": "8ec46c13",
   "metadata": {},
   "source": [
    "### 5. Join Cleaned\n",
    "\n",
    ">Join the above datasets to a finishes product `fibro_cleaned`"
   ]
  },
  {
   "cell_type": "code",
   "execution_count": 6,
   "id": "b3192e36",
   "metadata": {},
   "outputs": [
    {
     "data": {
      "text/html": [
       "<div>\n",
       "<style scoped>\n",
       "    .dataframe tbody tr th:only-of-type {\n",
       "        vertical-align: middle;\n",
       "    }\n",
       "\n",
       "    .dataframe tbody tr th {\n",
       "        vertical-align: top;\n",
       "    }\n",
       "\n",
       "    .dataframe thead th {\n",
       "        text-align: right;\n",
       "    }\n",
       "</style>\n",
       "<table border=\"1\" class=\"dataframe\">\n",
       "  <thead>\n",
       "    <tr style=\"text-align: right;\">\n",
       "      <th></th>\n",
       "      <th>titles</th>\n",
       "      <th>pub_date</th>\n",
       "      <th>source</th>\n",
       "      <th>abstract</th>\n",
       "    </tr>\n",
       "    <tr>\n",
       "      <th>PMID</th>\n",
       "      <th></th>\n",
       "      <th></th>\n",
       "      <th></th>\n",
       "      <th></th>\n",
       "    </tr>\n",
       "  </thead>\n",
       "  <tbody>\n",
       "    <tr>\n",
       "      <th>32314938</th>\n",
       "      <td>Fibromyalgia, Sjogren's &amp; Depression: Linked?</td>\n",
       "      <td>2020 Apr 21</td>\n",
       "      <td>Postgrad Med. 2020 Apr 21. doi: 10.1080/003254...</td>\n",
       "      <td>Health care has become increasingly fragmented...</td>\n",
       "    </tr>\n",
       "    <tr>\n",
       "      <th>32308473</th>\n",
       "      <td>Electrodiagnostic Abnormalities Associated wit...</td>\n",
       "      <td>2020</td>\n",
       "      <td>J Pain Res. 2020 Apr 9;13:737-744. doi: 10.214...</td>\n",
       "      <td>Purpose: Increasing evidence suggests that fib...</td>\n",
       "    </tr>\n",
       "    <tr>\n",
       "      <th>32307906</th>\n",
       "      <td>High levels of cathepsin S and cystatin C in p...</td>\n",
       "      <td>2020 Apr 19</td>\n",
       "      <td>Int J Rheum Dis. 2020 Apr 19. doi: 10.1111/175...</td>\n",
       "      <td>OBJECTIVES: Although the etiopathogenesis of f...</td>\n",
       "    </tr>\n",
       "    <tr>\n",
       "      <th>32305723</th>\n",
       "      <td>Prevalence and overlap of somatic symptom diso...</td>\n",
       "      <td>2020 Apr 11</td>\n",
       "      <td>J Psychosom Res. 2020 Apr 11;133:110111. doi: ...</td>\n",
       "      <td>OBJECTIVE: To study the prevalence and clinica...</td>\n",
       "    </tr>\n",
       "    <tr>\n",
       "      <th>32299495</th>\n",
       "      <td>Psychometric properties of Turkish version of ...</td>\n",
       "      <td>2020 Apr 16</td>\n",
       "      <td>Adv Rheumatol. 2020 Apr 16;60(1):22. doi: 10.1...</td>\n",
       "      <td>BACKGROUND: Fibromyalgia syndrome (FMS) has ad...</td>\n",
       "    </tr>\n",
       "  </tbody>\n",
       "</table>\n",
       "</div>"
      ],
      "text/plain": [
       "                                                     titles     pub_date  \\\n",
       "PMID                                                                       \n",
       "32314938      Fibromyalgia, Sjogren's & Depression: Linked?  2020 Apr 21   \n",
       "32308473  Electrodiagnostic Abnormalities Associated wit...         2020   \n",
       "32307906  High levels of cathepsin S and cystatin C in p...  2020 Apr 19   \n",
       "32305723  Prevalence and overlap of somatic symptom diso...  2020 Apr 11   \n",
       "32299495  Psychometric properties of Turkish version of ...  2020 Apr 16   \n",
       "\n",
       "                                                     source  \\\n",
       "PMID                                                          \n",
       "32314938  Postgrad Med. 2020 Apr 21. doi: 10.1080/003254...   \n",
       "32308473  J Pain Res. 2020 Apr 9;13:737-744. doi: 10.214...   \n",
       "32307906  Int J Rheum Dis. 2020 Apr 19. doi: 10.1111/175...   \n",
       "32305723  J Psychosom Res. 2020 Apr 11;133:110111. doi: ...   \n",
       "32299495  Adv Rheumatol. 2020 Apr 16;60(1):22. doi: 10.1...   \n",
       "\n",
       "                                                   abstract  \n",
       "PMID                                                         \n",
       "32314938  Health care has become increasingly fragmented...  \n",
       "32308473  Purpose: Increasing evidence suggests that fib...  \n",
       "32307906  OBJECTIVES: Although the etiopathogenesis of f...  \n",
       "32305723  OBJECTIVE: To study the prevalence and clinica...  \n",
       "32299495  BACKGROUND: Fibromyalgia syndrome (FMS) has ad...  "
      ]
     },
     "execution_count": 6,
     "metadata": {},
     "output_type": "execute_result"
    }
   ],
   "source": [
    "# old\n",
    "fibro.head()"
   ]
  },
  {
   "cell_type": "code",
   "execution_count": 7,
   "id": "da6e623d",
   "metadata": {},
   "outputs": [
    {
     "data": {
      "text/html": [
       "<div>\n",
       "<style scoped>\n",
       "    .dataframe tbody tr th:only-of-type {\n",
       "        vertical-align: middle;\n",
       "    }\n",
       "\n",
       "    .dataframe tbody tr th {\n",
       "        vertical-align: top;\n",
       "    }\n",
       "\n",
       "    .dataframe thead th {\n",
       "        text-align: right;\n",
       "    }\n",
       "</style>\n",
       "<table border=\"1\" class=\"dataframe\">\n",
       "  <thead>\n",
       "    <tr style=\"text-align: right;\">\n",
       "      <th></th>\n",
       "      <th>yr</th>\n",
       "      <th>mo</th>\n",
       "      <th>day</th>\n",
       "      <th>publication</th>\n",
       "      <th>DOI</th>\n",
       "      <th>title</th>\n",
       "      <th>abstract</th>\n",
       "    </tr>\n",
       "    <tr>\n",
       "      <th>PMID</th>\n",
       "      <th></th>\n",
       "      <th></th>\n",
       "      <th></th>\n",
       "      <th></th>\n",
       "      <th></th>\n",
       "      <th></th>\n",
       "      <th></th>\n",
       "    </tr>\n",
       "  </thead>\n",
       "  <tbody>\n",
       "    <tr>\n",
       "      <th>32314938</th>\n",
       "      <td>2020</td>\n",
       "      <td>Apr</td>\n",
       "      <td>21</td>\n",
       "      <td>Postgrad Med.</td>\n",
       "      <td>10.1080/00325481.2020.1758426.</td>\n",
       "      <td>Fibromyalgia Sjogrens  Depression Linked</td>\n",
       "      <td>Health care has become increasingly fragmented...</td>\n",
       "    </tr>\n",
       "    <tr>\n",
       "      <th>32308473</th>\n",
       "      <td>2020</td>\n",
       "      <td>Apr</td>\n",
       "      <td>21</td>\n",
       "      <td>J Pain Res.</td>\n",
       "      <td>10.2147/JPR.S234475. eCollection 2020.</td>\n",
       "      <td>Electrodiagnostic Abnormalities Associated wit...</td>\n",
       "      <td>Purpose Increasing evidence suggests that fibr...</td>\n",
       "    </tr>\n",
       "    <tr>\n",
       "      <th>32307906</th>\n",
       "      <td>2020</td>\n",
       "      <td>Apr</td>\n",
       "      <td>19</td>\n",
       "      <td>Int J Rheum Dis.</td>\n",
       "      <td>10.1111/1756-185X.13840.</td>\n",
       "      <td>High levels of cathepsin S and cystatin C in p...</td>\n",
       "      <td>OBJECTIVES Although the etiopathogenesis of fi...</td>\n",
       "    </tr>\n",
       "    <tr>\n",
       "      <th>32305723</th>\n",
       "      <td>2020</td>\n",
       "      <td>Apr</td>\n",
       "      <td>11</td>\n",
       "      <td>J Psychosom Res.</td>\n",
       "      <td>10.1016/j.jpsychores.2020.110111.</td>\n",
       "      <td>Prevalence and overlap of somatic symptom diso...</td>\n",
       "      <td>OBJECTIVE To study the prevalence and clinical...</td>\n",
       "    </tr>\n",
       "    <tr>\n",
       "      <th>32299495</th>\n",
       "      <td>2020</td>\n",
       "      <td>Apr</td>\n",
       "      <td>16</td>\n",
       "      <td>Adv Rheumatol.</td>\n",
       "      <td>10.1186/s42358-020-0123-3.</td>\n",
       "      <td>Psychometric properties of Turkish version of ...</td>\n",
       "      <td>BACKGROUND Fibromyalgia syndrome FMS has adver...</td>\n",
       "    </tr>\n",
       "  </tbody>\n",
       "</table>\n",
       "</div>"
      ],
      "text/plain": [
       "            yr   mo day       publication  \\\n",
       "PMID                                        \n",
       "32314938  2020  Apr  21     Postgrad Med.   \n",
       "32308473  2020  Apr  21       J Pain Res.   \n",
       "32307906  2020  Apr  19  Int J Rheum Dis.   \n",
       "32305723  2020  Apr  11  J Psychosom Res.   \n",
       "32299495  2020  Apr  16    Adv Rheumatol.   \n",
       "\n",
       "                                              DOI  \\\n",
       "PMID                                                \n",
       "32314938           10.1080/00325481.2020.1758426.   \n",
       "32308473   10.2147/JPR.S234475. eCollection 2020.   \n",
       "32307906                 10.1111/1756-185X.13840.   \n",
       "32305723        10.1016/j.jpsychores.2020.110111.   \n",
       "32299495               10.1186/s42358-020-0123-3.   \n",
       "\n",
       "                                                      title  \\\n",
       "PMID                                                          \n",
       "32314938           Fibromyalgia Sjogrens  Depression Linked   \n",
       "32308473  Electrodiagnostic Abnormalities Associated wit...   \n",
       "32307906  High levels of cathepsin S and cystatin C in p...   \n",
       "32305723  Prevalence and overlap of somatic symptom diso...   \n",
       "32299495  Psychometric properties of Turkish version of ...   \n",
       "\n",
       "                                                   abstract  \n",
       "PMID                                                         \n",
       "32314938  Health care has become increasingly fragmented...  \n",
       "32308473  Purpose Increasing evidence suggests that fibr...  \n",
       "32307906  OBJECTIVES Although the etiopathogenesis of fi...  \n",
       "32305723  OBJECTIVE To study the prevalence and clinical...  \n",
       "32299495  BACKGROUND Fibromyalgia syndrome FMS has adver...  "
      ]
     },
     "execution_count": 7,
     "metadata": {},
     "output_type": "execute_result"
    }
   ],
   "source": [
    "# new\n",
    "fibro_clean = pd.concat([dates, source, clean_text], axis=1)\n",
    "fibro_clean.head()"
   ]
  },
  {
   "cell_type": "markdown",
   "id": "b18bb50c",
   "metadata": {},
   "source": [
    "## Part II: _Model_\n",
    "---\n",
    "\n",
    ">Now that our data is in a cleansed and in an easily queryable state, if is time to analyze the important parts of this document: Title and Abstract. Our goal here is to develop a title from the given abstract. \n",
    "\n",
    "> **DISCLAIMER:** I have chosen to use `SimpleT5` as a pretrain solution. I followed this [tutorial](https://colab.research.google.com/drive/1JZ8v9L0w0Ai3WbibTeuvYlytn0uHMP6O?usp=sharing#scrollTo=zWE4rl2vhaLZ) to set my model up. This also requires a pytorxh install."
   ]
  },
  {
   "cell_type": "markdown",
   "id": "d96a4898",
   "metadata": {},
   "source": [
    "### 1. Train Test Split\n",
    "\n",
    "> We want to split our data into a train and test set using `sklearn`."
   ]
  },
  {
   "cell_type": "code",
   "execution_count": 8,
   "id": "b1806704",
   "metadata": {},
   "outputs": [
    {
     "name": "stdout",
     "output_type": "stream",
     "text": [
      "--- Title ---\n",
      "Fibromyalgia Sjogrens  Depression Linked\n",
      "--- Abstract ---\n",
      "Health care has become increasingly fragmented partly due to advancing medical technology Patients are often managed by various specialty teams when presenting with symptoms that could be manifestations of different diseases Approximately one third of them are referred to specialists at over half for outpatient appointments1 Fatigue pain depression dry mouth headaches and arthralgia are common complaints and frequently require referral to specialist physicians Differential diagnoses include fibromyalgia FM Sjogrens syndrome SS and depression Evaluations involve various subspecialist especially physicians like those practicing pain management rheumatology and psychiatryThresholds for referring vary Patients sometime feel lost in a medical maze Disagreement is frequent between specialties regarding management12 Each discipline has its own diagnostic and treatment protocols and there is little consensus about shared decisionmaking Communication between doctors could improve continuity There are many differences and similarities in the pathophysiology symptomatology diagnosis and treatment of fibromyalgia Sjogrens syndrome and depression Understanding the associations between fibromyalgia Sjogrens syndrome and depression should improve clinical outcome via a common holistic approach\n"
     ]
    },
    {
     "data": {
      "text/html": [
       "<div>\n",
       "<style scoped>\n",
       "    .dataframe tbody tr th:only-of-type {\n",
       "        vertical-align: middle;\n",
       "    }\n",
       "\n",
       "    .dataframe tbody tr th {\n",
       "        vertical-align: top;\n",
       "    }\n",
       "\n",
       "    .dataframe thead th {\n",
       "        text-align: right;\n",
       "    }\n",
       "</style>\n",
       "<table border=\"1\" class=\"dataframe\">\n",
       "  <thead>\n",
       "    <tr style=\"text-align: right;\">\n",
       "      <th></th>\n",
       "      <th>source_text</th>\n",
       "      <th>target_text</th>\n",
       "    </tr>\n",
       "    <tr>\n",
       "      <th>PMID</th>\n",
       "      <th></th>\n",
       "      <th></th>\n",
       "    </tr>\n",
       "  </thead>\n",
       "  <tbody>\n",
       "    <tr>\n",
       "      <th>32314938</th>\n",
       "      <td>summarize: Health care has become increasingly...</td>\n",
       "      <td>Fibromyalgia Sjogrens  Depression Linked</td>\n",
       "    </tr>\n",
       "    <tr>\n",
       "      <th>32308473</th>\n",
       "      <td>summarize: Purpose Increasing evidence suggest...</td>\n",
       "      <td>Electrodiagnostic Abnormalities Associated wit...</td>\n",
       "    </tr>\n",
       "    <tr>\n",
       "      <th>32307906</th>\n",
       "      <td>summarize: OBJECTIVES Although the etiopathoge...</td>\n",
       "      <td>High levels of cathepsin S and cystatin C in p...</td>\n",
       "    </tr>\n",
       "    <tr>\n",
       "      <th>32305723</th>\n",
       "      <td>summarize: OBJECTIVE To study the prevalence a...</td>\n",
       "      <td>Prevalence and overlap of somatic symptom diso...</td>\n",
       "    </tr>\n",
       "    <tr>\n",
       "      <th>32299495</th>\n",
       "      <td>summarize: BACKGROUND Fibromyalgia syndrome FM...</td>\n",
       "      <td>Psychometric properties of Turkish version of ...</td>\n",
       "    </tr>\n",
       "  </tbody>\n",
       "</table>\n",
       "</div>"
      ],
      "text/plain": [
       "                                                source_text  \\\n",
       "PMID                                                          \n",
       "32314938  summarize: Health care has become increasingly...   \n",
       "32308473  summarize: Purpose Increasing evidence suggest...   \n",
       "32307906  summarize: OBJECTIVES Although the etiopathoge...   \n",
       "32305723  summarize: OBJECTIVE To study the prevalence a...   \n",
       "32299495  summarize: BACKGROUND Fibromyalgia syndrome FM...   \n",
       "\n",
       "                                                target_text  \n",
       "PMID                                                         \n",
       "32314938           Fibromyalgia Sjogrens  Depression Linked  \n",
       "32308473  Electrodiagnostic Abnormalities Associated wit...  \n",
       "32307906  High levels of cathepsin S and cystatin C in p...  \n",
       "32305723  Prevalence and overlap of somatic symptom diso...  \n",
       "32299495  Psychometric properties of Turkish version of ...  "
      ]
     },
     "execution_count": 8,
     "metadata": {},
     "output_type": "execute_result"
    }
   ],
   "source": [
    "# build dataset\n",
    "\n",
    "RANDOMS = 42\n",
    "\n",
    "# example text in and out\n",
    "print(\"--- Title ---\")\n",
    "print(fibro_clean[\"title\"].iloc[0])\n",
    "print(\"--- Abstract ---\")\n",
    "print(fibro_clean[\"abstract\"].iloc[0])\n",
    "\n",
    "# t5 set\n",
    "df = fibro_clean[['abstract', 'title']].copy()\n",
    "df.columns = ['source_text', 'target_text']\n",
    "\n",
    "# T5 model expects a task related prefix: since it is a summarization task, we will add a prefix \"summarize: \"\n",
    "df['source_text'] = \"summarize: \" + df['source_text']\n",
    "df.head()"
   ]
  },
  {
   "cell_type": "code",
   "execution_count": 9,
   "id": "e701d265",
   "metadata": {},
   "outputs": [
    {
     "data": {
      "text/plain": [
       "((4688, 2), (1173, 2))"
      ]
     },
     "execution_count": 9,
     "metadata": {},
     "output_type": "execute_result"
    }
   ],
   "source": [
    "# train test split\n",
    "\n",
    "from sklearn.model_selection import train_test_split\n",
    "\n",
    "train_df, test_df = train_test_split(df, test_size=0.2)\n",
    "train_df.shape, test_df.shape"
   ]
  },
  {
   "cell_type": "code",
   "execution_count": null,
   "id": "6aa1982d",
   "metadata": {},
   "outputs": [
    {
     "name": "stderr",
     "output_type": "stream",
     "text": [
      "GPU available: False, used: False\n",
      "TPU available: False, using: 0 TPU cores\n",
      "IPU available: False, using: 0 IPUs\n",
      "Missing logger folder: /Users/ppfenning/PycharmProjects/fibro/deliverables/lightning_logs\n",
      "\n",
      "  | Name  | Type                       | Params\n",
      "-----------------------------------------------------\n",
      "0 | model | T5ForConditionalGeneration | 222 M \n",
      "-----------------------------------------------------\n",
      "222 M     Trainable params\n",
      "0         Non-trainable params\n",
      "222 M     Total params\n",
      "891.614   Total estimated model params size (MB)\n"
     ]
    },
    {
     "data": {
      "application/vnd.jupyter.widget-view+json": {
       "model_id": "",
       "version_major": 2,
       "version_minor": 0
      },
      "text/plain": [
       "Validation sanity check: 0it [00:00, ?it/s]"
      ]
     },
     "metadata": {},
     "output_type": "display_data"
    },
    {
     "name": "stderr",
     "output_type": "stream",
     "text": [
      "/usr/local/Caskroom/miniconda/base/envs/fibro/lib/python3.9/site-packages/pytorch_lightning/trainer/data_loading.py:132: UserWarning: The dataloader, val_dataloader 0, does not have many workers which may be a bottleneck. Consider increasing the value of the `num_workers` argument` (try 12 which is the number of cpus on this machine) in the `DataLoader` init to improve performance.\n",
      "  rank_zero_warn(\n",
      "Global seed set to 42\n",
      "Global seed set to 42\n"
     ]
    },
    {
     "name": "stdout",
     "output_type": "stream",
     "text": [
      "huggingface/tokenizers: The current process just got forked, after parallelism has already been used. Disabling parallelism to avoid deadlocks...\n",
      "To disable this warning, you can either:\n",
      "\t- Avoid using `tokenizers` before the fork if possible\n",
      "\t- Explicitly set the environment variable TOKENIZERS_PARALLELISM=(true | false)\n",
      "huggingface/tokenizers: The current process just got forked, after parallelism has already been used. Disabling parallelism to avoid deadlocks...\n",
      "To disable this warning, you can either:\n",
      "\t- Avoid using `tokenizers` before the fork if possible\n",
      "\t- Explicitly set the environment variable TOKENIZERS_PARALLELISM=(true | false)\n"
     ]
    },
    {
     "name": "stderr",
     "output_type": "stream",
     "text": [
      "Global seed set to 42\n",
      "/usr/local/Caskroom/miniconda/base/envs/fibro/lib/python3.9/site-packages/pytorch_lightning/trainer/data_loading.py:132: UserWarning: The dataloader, train_dataloader, does not have many workers which may be a bottleneck. Consider increasing the value of the `num_workers` argument` (try 12 which is the number of cpus on this machine) in the `DataLoader` init to improve performance.\n",
      "  rank_zero_warn(\n"
     ]
    },
    {
     "data": {
      "application/vnd.jupyter.widget-view+json": {
       "model_id": "70c212965e06451d826b4fb07b6dc1fd",
       "version_major": 2,
       "version_minor": 0
      },
      "text/plain": [
       "Training: 0it [00:00, ?it/s]"
      ]
     },
     "metadata": {},
     "output_type": "display_data"
    },
    {
     "name": "stderr",
     "output_type": "stream",
     "text": [
      "Global seed set to 42\n",
      "Global seed set to 42\n"
     ]
    },
    {
     "name": "stdout",
     "output_type": "stream",
     "text": [
      "huggingface/tokenizers: The current process just got forked, after parallelism has already been used. Disabling parallelism to avoid deadlocks...\n",
      "To disable this warning, you can either:\n",
      "\t- Avoid using `tokenizers` before the fork if possible\n",
      "\t- Explicitly set the environment variable TOKENIZERS_PARALLELISM=(true | false)\n",
      "huggingface/tokenizers: The current process just got forked, after parallelism has already been used. Disabling parallelism to avoid deadlocks...\n",
      "To disable this warning, you can either:\n",
      "\t- Avoid using `tokenizers` before the fork if possible\n",
      "\t- Explicitly set the environment variable TOKENIZERS_PARALLELISM=(true | false)\n"
     ]
    },
    {
     "data": {
      "application/vnd.jupyter.widget-view+json": {
       "model_id": "",
       "version_major": 2,
       "version_minor": 0
      },
      "text/plain": [
       "Validating: 0it [00:00, ?it/s]"
      ]
     },
     "metadata": {},
     "output_type": "display_data"
    },
    {
     "name": "stderr",
     "output_type": "stream",
     "text": [
      "Global seed set to 42\n",
      "Global seed set to 42\n"
     ]
    },
    {
     "name": "stdout",
     "output_type": "stream",
     "text": [
      "huggingface/tokenizers: The current process just got forked, after parallelism has already been used. Disabling parallelism to avoid deadlocks...\n",
      "To disable this warning, you can either:\n",
      "\t- Avoid using `tokenizers` before the fork if possible\n",
      "\t- Explicitly set the environment variable TOKENIZERS_PARALLELISM=(true | false)\n",
      "huggingface/tokenizers: The current process just got forked, after parallelism has already been used. Disabling parallelism to avoid deadlocks...\n",
      "To disable this warning, you can either:\n",
      "\t- Avoid using `tokenizers` before the fork if possible\n",
      "\t- Explicitly set the environment variable TOKENIZERS_PARALLELISM=(true | false)\n"
     ]
    },
    {
     "name": "stderr",
     "output_type": "stream",
     "text": [
      "Global seed set to 42\n",
      "Global seed set to 42\n"
     ]
    },
    {
     "name": "stdout",
     "output_type": "stream",
     "text": [
      "huggingface/tokenizers: The current process just got forked, after parallelism has already been used. Disabling parallelism to avoid deadlocks...\n",
      "To disable this warning, you can either:\n",
      "\t- Avoid using `tokenizers` before the fork if possible\n",
      "\t- Explicitly set the environment variable TOKENIZERS_PARALLELISM=(true | false)\n",
      "huggingface/tokenizers: The current process just got forked, after parallelism has already been used. Disabling parallelism to avoid deadlocks...\n",
      "To disable this warning, you can either:\n",
      "\t- Avoid using `tokenizers` before the fork if possible\n",
      "\t- Explicitly set the environment variable TOKENIZERS_PARALLELISM=(true | false)\n"
     ]
    }
   ],
   "source": [
    "from simplet5 import SimpleT5\n",
    "\n",
    "model = SimpleT5()\n",
    "model.from_pretrained(model_type=\"t5\", model_name=\"t5-base\")\n",
    "model.train(train_df=train_df[:5000],\n",
    "            eval_df=test_df[:100], \n",
    "            source_max_token_len=128, \n",
    "            target_max_token_len=50, \n",
    "            batch_size=8, max_epochs=3, use_gpu=False)"
   ]
  }
 ],
 "metadata": {
  "kernelspec": {
   "display_name": "Python 3 (ipykernel)",
   "language": "python",
   "name": "python3"
  },
  "language_info": {
   "codemirror_mode": {
    "name": "ipython",
    "version": 3
   },
   "file_extension": ".py",
   "mimetype": "text/x-python",
   "name": "python",
   "nbconvert_exporter": "python",
   "pygments_lexer": "ipython3",
   "version": "3.9.12"
  }
 },
 "nbformat": 4,
 "nbformat_minor": 5
}
